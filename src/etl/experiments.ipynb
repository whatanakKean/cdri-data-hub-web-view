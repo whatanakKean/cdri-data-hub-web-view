{
 "cells": [
  {
   "cell_type": "code",
   "execution_count": 16,
   "metadata": {},
   "outputs": [],
   "source": [
    "import pandas as pd\n",
    "\n",
    "data = pd.read_excel(\"Datahub_Agri_Latest.xlsx\", sheet_name=\"Database\")"
   ]
  },
  {
   "cell_type": "code",
   "execution_count": 3,
   "metadata": {},
   "outputs": [],
   "source": [
    "import pandas as pd\n",
    "\n",
    "# Step 1: Read the data\n",
    "data = pd.read_excel(\"Datahub_Agri_Latest.xlsx\", sheet_name=\"Database\")\n",
    "\n",
    "# Step 2: Check for a typo and fix the column name if necessary\n",
    "if 'Latiude' in data.columns:\n",
    "    data = data.rename(columns={'Latiude': 'Latitude'})  # Fix the typo for Latitude\n",
    "\n",
    "# Step 3: Define the unit for each indicator\n",
    "indicator_units = {\n",
    "    'Area Planted': 'Ha',\n",
    "    'Area Harvested': 'Ha',\n",
    "    'Quantity Harvested': 'T',\n",
    "    'Yield': 'T/Ha',\n",
    "    'Smallholder Livestock': 'Number',\n",
    "    'Livestock Farming Industry': 'Number',\n",
    "    'Total Number of Livestock': 'Number',\n",
    "    'Quantity': 'Kg',\n",
    "    'Value': 'USD',\n",
    "    'Share(%)': '%',\n",
    "    'Growth(%)': '%',\n",
    "    'Products': 'N/A',\n",
    "    'Famers': 'Number',\n",
    "    'Associates': 'Number',\n",
    "    'SMEs': 'Number',\n",
    "    'Company': 'Number'\n",
    "}\n",
    "\n",
    "# Step 4: Unpivot the data using pd.melt()\n",
    "unpivoted_data = data.melt(\n",
    "    id_vars=[\n",
    "        'Series Code', 'Series Name', 'Sector', 'Sub-Sector (1)', 'Sub-Sector (2)', \n",
    "        'Province', 'Year', 'Source', 'Latitude', 'Longitude', 'Pro code', \n",
    "        'Markets'\n",
    "    ], \n",
    "    value_vars=[\n",
    "        'Area Planted', 'Area Harvested', 'Quantity Harvested', 'Yield', \n",
    "        'Smallholder Livestock', 'Livestock Farming Industry', 'Total Number of Livestock', \n",
    "        'Livestock Production', 'Famers', 'Associates', 'SMEs', 'Company', \n",
    "        'Quantity', 'Value', 'Share(%)', 'Growth(%)'\n",
    "    ], \n",
    "    var_name='Indicator', \n",
    "    value_name='Indicator Value'\n",
    ")\n",
    "\n",
    "# Step 5: Add the 'Indicator Unit' column using the indicator_units dictionary\n",
    "unpivoted_data['Indicator Unit'] = unpivoted_data['Indicator'].map(indicator_units)\n",
    "\n",
    "unpivoted_data['Indicator Value'] = unpivoted_data['Indicator Value'].replace(['', ' ', 'N/A'], pd.NA)\n",
    "unpivoted_data = unpivoted_data.dropna(subset=['Indicator Value'])\n",
    "\n",
    "# Optionally, you can save the unpivoted data back to a new Excel file\n",
    "unpivoted_data.to_excel(\"Unpivoted_Datahub_Agri_Latest_With_Units.xlsx\", index=False)\n"
   ]
  }
 ],
 "metadata": {
  "kernelspec": {
   "display_name": "datahub-webview",
   "language": "python",
   "name": "python3"
  },
  "language_info": {
   "codemirror_mode": {
    "name": "ipython",
    "version": 3
   },
   "file_extension": ".py",
   "mimetype": "text/x-python",
   "name": "python",
   "nbconvert_exporter": "python",
   "pygments_lexer": "ipython3",
   "version": "3.10.16"
  }
 },
 "nbformat": 4,
 "nbformat_minor": 2
}
